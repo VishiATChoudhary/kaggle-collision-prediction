{
 "cells": [
  {
   "cell_type": "markdown",
   "metadata": {},
   "source": [
    "# Create frames for training pretrained collision detection model"
   ]
  },
  {
   "cell_type": "code",
   "execution_count": null,
   "metadata": {},
   "outputs": [],
   "source": [
    "#read video from path: \n",
    "import cv2\n",
    "\n",
    "import pandas as pd\n",
    "\n",
    "import os\n"
   ]
  },
  {
   "cell_type": "code",
   "execution_count": null,
   "metadata": {},
   "outputs": [],
   "source": [
    "oracle_time = 4\n",
    "train_path = os.listdir('nexar-collision-prediction/train')\n",
    "train_vids = [os.path.join('/nexar-collision-prediction/train', vid) for vid in train_path if '_' not in vid]\n",
    "train_df = pd.read_csv('datasets/Nexus_Data/train.csv')"
   ]
  },
  {
   "cell_type": "code",
   "execution_count": null,
   "metadata": {},
   "outputs": [],
   "source": [
    "train_vids"
   ]
  },
  {
   "cell_type": "code",
   "execution_count": null,
   "metadata": {},
   "outputs": [],
   "source": [
    "#get train id from the video path\n",
    "train_df.columns"
   ]
  },
  {
   "cell_type": "markdown",
   "metadata": {},
   "source": [
    "# Find the cars in the image"
   ]
  },
  {
   "cell_type": "code",
   "execution_count": null,
   "metadata": {},
   "outputs": [],
   "source": [
    "def convert_seconds_to_frame(seconds, fps = 30):\n",
    "    return int(seconds * fps)\n",
    "\n",
    "def convert_frame_to_seconds(frame, fps = 30):\n",
    "    return frame / fps"
   ]
  },
  {
   "cell_type": "markdown",
   "metadata": {},
   "source": [
    "### Create Jsons for accident data"
   ]
  },
  {
   "cell_type": "code",
   "execution_count": null,
   "metadata": {},
   "outputs": [],
   "source": [
    "save_train_accident_path = 'datasets/Nexus_Data/train/accident'\n",
    "save_train_no_accident_path = 'datasets/Nexus_Data/train/no_accident'"
   ]
  },
  {
   "cell_type": "code",
   "execution_count": null,
   "metadata": {},
   "outputs": [],
   "source": [
    "for train_vid in train_vids:\n",
    "    \n",
    "    train_id = int(train_vid.split('/')[-1].split('.')[0])\n",
    "    print('vid name', train_vid)\n",
    "    df_id = train_df[train_df['id'] == train_id]\n",
    "\n",
    "    clipStart = df_id['time_of_alert'].values[0] #- oracle_time\n",
    "    if clipStart < 0:\n",
    "        clipStart = 0\n",
    "    clipEnd = df_id['time_of_event'].values[0] + oracle_time\n",
    "\n",
    "    cap = cv2.VideoCapture(train_vid)\n",
    "    fr_number = 0\n",
    "    #draw bounding box of car in last frame\n",
    "    while(cap.isOpened()):\n",
    "        ret, frame = cap.read()\n",
    "        if ret == False:\n",
    "            break\n",
    "        second = convert_frame_to_seconds(fr_number)\n",
    "        print(second)\n",
    "\n",
    "        if second < clipStart:\n",
    "            #save frame as image\n",
    "            print(f'{save_train_no_accident_path}/{train_id}_{fr_number}.jpg')\n",
    "            cv2.imwrite(f'{save_train_no_accident_path}/{train_id}_{fr_number}.jpg', frame)\n",
    "            fr_number += 1\n",
    "            continue\n",
    "        elif second > clipEnd:\n",
    "            break\n",
    "        else: \n",
    "            #save frame as image\n",
    "            print(f'{save_train_accident_path}/{train_id}_{fr_number}.jpg')\n",
    "            cv2.imwrite(f'{save_train_accident_path}/{train_id}_{fr_number}.jpg', frame)\n",
    "            fr_number += 1\n",
    "\n",
    "\n"
   ]
  }
 ],
 "metadata": {
  "kernelspec": {
   "display_name": "cv_env",
   "language": "python",
   "name": "python3"
  },
  "language_info": {
   "codemirror_mode": {
    "name": "ipython",
    "version": 3
   },
   "file_extension": ".py",
   "mimetype": "text/x-python",
   "name": "python",
   "nbconvert_exporter": "python",
   "pygments_lexer": "ipython3",
   "version": "3.10.16"
  }
 },
 "nbformat": 4,
 "nbformat_minor": 2
}
